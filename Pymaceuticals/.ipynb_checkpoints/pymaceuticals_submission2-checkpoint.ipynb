{
 "cells": [
  {
   "attachments": {},
   "cell_type": "markdown",
   "metadata": {},
   "source": [
    "# Pymaceuticals Inc.\n",
    "---\n",
    "\n",
    "### Analysis\n",
    "\n",
    "- Add your analysis here.\n",
    " "
   ]
  },
  {
   "cell_type": "code",
   "execution_count": null,
   "metadata": {},
   "outputs": [],
   "source": [
    "# Dependencies and Setup\n",
    "import matplotlib.pyplot as plt\n",
    "import pandas as pd\n",
    "import scipy.stats as st\n",
    "\n",
    "# Study data files\n",
    "mouse_metadata_path = \"data/Mouse_metadata.csv\"\n",
    "study_results_path = \"data/Study_results.csv\"\n",
    "\n",
    "# Read the mouse data and the study results\n",
    "mouse_metadata = pd.read_csv(mouse_metadata_path)\n",
    "study_results = pd.read_csv(study_results_path)\n",
    "\n",
    "# Combine the data into a single DataFrame\n",
    "mouse_complete = pd.merge(study_results,mouse_metadata, how=\"left\", on=[\"Mouse ID\", \"Mouse ID\"])\n",
    "\n",
    "# Display the data table for preview\n",
    "mouse_complete.head()"
   ]
  },
  {
   "cell_type": "code",
   "execution_count": null,
   "metadata": {},
   "outputs": [],
   "source": [
    "# Checking the number of mice.\n",
    "len(pd.unique(mouse_complete[\"Mouse ID\"]))\n"
   ]
  },
  {
   "cell_type": "code",
   "execution_count": null,
   "metadata": {},
   "outputs": [],
   "source": [
    "# Our data should be uniquely identified by Mouse ID and Timepoint\n",
    "# Get the duplicate mice by ID number that shows up for Mouse ID and Timepoint. \n",
    "duplicate_rows = mouse_complete[mouse_complete.duplicated(subset=[\"Mouse ID\",\"Timepoint\"],keep=False)]\n",
    "odd_mouse_out = pd.unique(duplicate_rows[\"Mouse ID\"])"
   ]
  },
  {
   "cell_type": "code",
   "execution_count": null,
   "metadata": {},
   "outputs": [],
   "source": [
    "# Optional: Get all the data for the duplicate mouse ID. \n",
    "duplicate_data = mouse_complete[mouse_complete[\"Mouse ID\"].isin(odd_mouse_out)]\n",
    "duplicate_data\n"
   ]
  },
  {
   "cell_type": "code",
   "execution_count": null,
   "metadata": {},
   "outputs": [],
   "source": [
    "# Create a clean DataFrame by dropping the duplicate mouse by its ID.\n",
    "clean_mouse_complete =  mouse_complete[~mouse_complete[\"Mouse ID\"].isin(odd_mouse_out)]\n",
    "clean_mouse_complete.head()"
   ]
  },
  {
   "cell_type": "code",
   "execution_count": null,
   "metadata": {},
   "outputs": [],
   "source": [
    "# Checking the number of mice in the clean DataFrame.\n",
    "len(pd.unique(clean_mouse_complete[\"Mouse ID\"]))"
   ]
  },
  {
   "cell_type": "markdown",
   "metadata": {},
   "source": [
    "## Summary Statistics"
   ]
  },
  {
   "cell_type": "code",
   "execution_count": null,
   "metadata": {},
   "outputs": [],
   "source": [
    "# Generate a summary statistics table of mean, median, variance, standard deviation, and SEM of the tumor volume for each regimen\n",
    "\n",
    "# Use groupby and summary statistical methods to calculate the following properties of each drug regimen: \n",
    "# mean, median, variance, standard deviation, and SEM of the tumor volume. \n",
    "# Assemble the resulting series into a single summary DataFrame.\n",
    "means = clean_mouse_complete.groupby([\"Drug Regimen\"])[\"Tumor Volume (mm3)\"].mean()\n",
    "medians = clean_mouse_complete.groupby([\"Drug Regimen\"])[\"Tumor Volume (mm3)\"].median()\n",
    "variances = clean_mouse_complete.groupby([\"Drug Regimen\"])[\"Tumor Volume (mm3)\"].var()\n",
    "std_deviations = clean_mouse_complete.groupby([\"Drug Regimen\"])[\"Tumor Volume (mm3)\"].std()\n",
    "sems = clean_mouse_complete.groupby([\"Drug Regimen\"])[\"Tumor Volume (mm3)\"].sem()\n",
    "\n",
    "summary_stats = pd.DataFrame({\"Mean Tumor Volume\" : means,\n",
    "                              \"Median Tumor Volume\" : medians,\n",
    "                              \"Tumor Volume Variance\" : variances,\n",
    "                              \"Tumor Volumestd\" : std_deviations,\n",
    "                              \"Tumor Volumesem\" : sems\n",
    "                             })\n",
    "\n",
    "summary_stats\n"
   ]
  },
  {
   "cell_type": "code",
   "execution_count": null,
   "metadata": {},
   "outputs": [],
   "source": [
    "# A more advanced method to generate a summary statistics table of mean, median, variance, standard deviation,\n",
    "# and SEM of the tumor volume for each regimen (only one method is required in the solution)\n",
    "\n",
    "# Using the aggregation method, produce the same summary statistics in a single line\n",
    "agg_summary_stats = clean_mouse_complete.groupby([\"Drug Regimen\"]) \\\n",
    "                                        .agg({\"Tumor Volume (mm3)\":[\"mean\",\"sum\",\"var\",\"std\",\"sem\"]}) \n",
    "agg_summary_stats"
   ]
  },
  {
   "cell_type": "markdown",
   "metadata": {},
   "source": [
    "## Bar and Pie Charts"
   ]
  },
  {
   "cell_type": "code",
   "execution_count": null,
   "metadata": {},
   "outputs": [],
   "source": [
    "pd.pivot_table(clean_mouse_complete, values= \"Mouse ID\", columns = [\"Timepoint\"], aggfunc = \"count\")"
   ]
  },
  {
   "cell_type": "code",
   "execution_count": null,
   "metadata": {},
   "outputs": [],
   "source": [
    "# Generate a bar plot showing the total number of rows (Mouse ID/Timepoints) for each drug regimen using Pandas.\n",
    "regimen_counts = clean_mouse_complete[\"Drug Regimen\"].value_counts()\n",
    "pandasBar = regimen_counts.plot(kind='bar', figsize=(10, 6))\n",
    "pandasBar.set_ylabel(\"# of observed Mouse Timepoints\")\n",
    "plt.show\n",
    "\n"
   ]
  },
  {
   "cell_type": "code",
   "execution_count": null,
   "metadata": {},
   "outputs": [],
   "source": [
    "# Generate a bar plot showing the total number of rows (Mouse ID/Timepoints) for each drug regimen using pyplot.\n",
    "figure1 = regimen_counts.plot(kind = \"bar\", ylabel=\"# of observed Mouse Timepoints\")\n",
    "xticklabels = regimen_counts.index\n",
    "plt.show()"
   ]
  },
  {
   "cell_type": "code",
   "execution_count": null,
   "metadata": {},
   "outputs": [],
   "source": [
    "# Generate a pie plot showing the distribution of female versus male mice using Pandas\n",
    "labels = clean_mouse_complete[\"Sex\"].value_counts().index\n",
    "sizes = clean_mouse_complete[\"Sex\"].value_counts().reset_index()\n",
    "sizes.columns = [\"Label\",\"Sex\"] \n",
    "sizes.plot(kind=\"pie\",autopct=\"%1.1f%%\", y= \"Sex\", labels=labels, legend=False)\n"
   ]
  },
  {
   "cell_type": "code",
   "execution_count": null,
   "metadata": {},
   "outputs": [],
   "source": [
    "# Generate a pie plot showing the distribution of female versus male mice using pyplot\n",
    "plt.pie(sizes[\"Sex\"],labels=labels, autopct=\"%1.1f%%\")\n",
    "plt.text(-1.5, -.1, 'Sex', fontsize=10, color='black', rotation=90)\n",
    "plt.show()\n"
   ]
  },
  {
   "cell_type": "markdown",
   "metadata": {},
   "source": [
    "## Quartiles, Outliers and Boxplots"
   ]
  },
  {
   "cell_type": "code",
   "execution_count": null,
   "metadata": {
    "scrolled": true
   },
   "outputs": [],
   "source": [
    "\n",
    "# Calculate the final tumor volume of each mouse across four of the treatment regimens:  \n",
    "# Capomulin, Ramicane, Infubinol, and Ceftamin\n",
    "\n",
    "# Start by getting the last (greatest) timepoint for each mouse\n",
    "grouped_data = clean_mouse_complete.groupby(\"Mouse ID\")[\"Timepoint\"].max().reset_index()\n",
    "\n",
    "# Merge this group df with the original DataFrame to get the tumor volume at the last timepoint\n",
    "mouse_data_final = pd.merge(grouped_data, clean_mouse_complete, on=[\"Mouse ID\", \"Timepoint\"], how=\"inner\")\n"
   ]
  },
  {
   "cell_type": "code",
   "execution_count": null,
   "metadata": {},
   "outputs": [],
   "source": [
    "# Put treatments into a list for for loop (and later for plot labels)\n",
    "treatment_regimens = [\"Capomulin\", \"Ramicane\", \"Infubinol\", \"Ceftamin\"]\n",
    "\n",
    "# Create empty list to fill with tumor vol data (for plotting)\n",
    "tumor_volume_list= []\n",
    "\n",
    "# Calculate the IQR and quantitatively determine if there are any potential outliers.\n",
    "for drug in treatment_regimens:\n",
    "        \n",
    "    # Locate the rows which contain mice on each drug and get the tumor volumes\n",
    "    tumor_volume_temp_list = mouse_data_final.loc[mouse_data_final[\"Drug Regimen\"] == drug, \"Tumor Volume (mm3)\"]\n",
    "        \n",
    "    # add subset \n",
    "    tumor_volume_list.append(tumor_volume_temp_list)\n",
    "\n",
    "for i in range(len(treatment_regimens)):\n",
    "    # initialize upper and lower bounds\n",
    "    quartiles = tumor_volume_list[i].quantile([0.25, 0.5, 0.75])\n",
    "    lower_quartile = quartiles[0.25]\n",
    "    upper_quartile = quartiles[0.75]\n",
    "    iqr = upper_quartile - lower_quartile\n",
    "    lower_bound = lower_quartile - (1.5 * iqr)\n",
    "    upper_bound = upper_quartile + (1.5 * iqr)\n",
    "    \n",
    "    # Determine outliers using upper and lower bounds\n",
    "    outliers = tumor_volume_list[i].loc[(tumor_volume_list[i] <lower_bound) | (tumor_volume_list[i] > upper_bound)]\n",
    "\n",
    "    #print statement\n",
    "    print(f\"{treatment_regimens[i]}'s potential outliers: {outliers}\")  \n",
    "                                              "
   ]
  },
  {
   "cell_type": "code",
   "execution_count": null,
   "metadata": {},
   "outputs": [],
   "source": [
    "# Generate a box plot that shows the distrubution of the tumor volume for each treatment group.\n",
    "fig1,ax1 = plt.subplots()    # creates plot elements we can easily alter\n",
    "ax1.set_title('Distribution of Tumor Volume by Treatment Group')   #titles graph\n",
    "ax1.set_ylabel('Final Tumor Volume (mm3)')     # y label\n",
    "ax1.set_xlabel(\"Treatment Group\")              # x label\n",
    "ax1.boxplot(tumor_volume_list, 0, sym =\"o\", \n",
    "            flierprops = {\"markerfacecolor\":'red'}, labels=treatment_regimens)   #creates box plot and formats outlier\n",
    "\n",
    "plt.show() # render plot"
   ]
  },
  {
   "cell_type": "markdown",
   "metadata": {},
   "source": [
    "## Line and Scatter Plots"
   ]
  },
  {
   "cell_type": "code",
   "execution_count": null,
   "metadata": {},
   "outputs": [],
   "source": [
    "# Generate a line plot of tumor volume vs. time point for a single mouse treated with Capomulin\n",
    "\n",
    "#filter data to just mouse l509 as shown in example \n",
    "filtered_data = clean_mouse_complete[\n",
    "    (clean_mouse_complete[\"Mouse ID\"] == \"l509\")]\n",
    "\n",
    "#creating line plot for singular mouse\n",
    "fig2,ax2 = plt.subplots()    # creates plot elements we can easily alter\n",
    "ax2.plot(\"Timepoint\",\"Tumor Volume (mm3)\", data= filtered_data)     # creates line plot\n",
    "ax2.set(xlabel= \"Timepoint (days)\", ylabel = \"Tumor Volume (mm3)\",  # labels axes and title\n",
    "       title= \"Capomulin treatment of mouse l509\")\n",
    "\n",
    "plt.show # render plot"
   ]
  },
  {
   "cell_type": "code",
   "execution_count": null,
   "metadata": {},
   "outputs": [],
   "source": [
    "# Generate a scatter plot of mouse weight vs. the average observed tumor volume for the entire Capomulin regimen\n",
    "capomulin_data = clean_mouse_complete[\n",
    "    (clean_mouse_complete[\"Drug Regimen\"] == \"Capomulin\")  # filter date down to just mice treated with capomulin\n",
    "    ]\n",
    "\n",
    "# runs aggregation on filtered data to pull mean from muliple columns and add to their own data frame\n",
    "capomulin_data_averages = capomulin_data.groupby([\"Mouse ID\"])\\\n",
    "                                        .agg({\"Tumor Volume (mm3)\":\"mean\",  \n",
    "                                              \"Weight (g)\":\"mean\"           \n",
    "                                             })     \n",
    "# plot data as a scatter plot\n",
    "capomulin_data_averages.plot(kind=\"scatter\", x= \"Weight (g)\", y= \"Tumor Volume (mm3)\", \n",
    "                             title= \"Mice Treated with Capomulin\")\n"
   ]
  },
  {
   "cell_type": "markdown",
   "metadata": {},
   "source": [
    "## Correlation and Regression"
   ]
  },
  {
   "cell_type": "code",
   "execution_count": null,
   "metadata": {},
   "outputs": [],
   "source": [
    "# Calculate the correlation coefficient and a linear regression model \n",
    "# for mouse weight and average observed tumor volume for the entire Capomulin regimen\n",
    "\n",
    "# assign values to axes \n",
    "x_values = capomulin_data_averages[\"Weight (g)\"] \n",
    "y_values = capomulin_data_averages[\"Tumor Volume (mm3)\"]\n",
    "\n",
    "# perform linear regression to data\n",
    "(slope, intercept, rvalue, pvalue, stderr) = st.linregress(x_values, y_values)\n",
    "regress_values = x_values * slope + intercept\n",
    "\n",
    "# format and save line equation for presentation on plot\n",
    "line_eq = \"y = \" + str(round(slope,2)) + \"x + \" + str(round(intercept,2))\n",
    "\n",
    "# creating plots\n",
    "plt.scatter(capomulin_data_averages[\"Weight (g)\"], \n",
    "            capomulin_data_averages[\"Tumor Volume (mm3)\"]) #create scatter plot\n",
    "plt.plot(x_values,regress_values,\"r-\") # append linear regression line to graph\n",
    "plt.annotate(line_eq,(18,36),fontsize=15,color=\"red\") # add line equation\n",
    "plt.xlabel(\"Weight (g)\")  # add x axis label\n",
    "plt.ylabel(\"Average Tumor Volume (mm3)\") # add y axis label\n",
    "           \n",
    "plt.show # render plot"
   ]
  },
  {
   "cell_type": "code",
   "execution_count": null,
   "metadata": {},
   "outputs": [],
   "source": []
  }
 ],
 "metadata": {
  "anaconda-cloud": {},
  "kernelspec": {
   "display_name": "Python 3 (ipykernel)",
   "language": "python",
   "name": "python3"
  },
  "language_info": {
   "codemirror_mode": {
    "name": "ipython",
    "version": 3
   },
   "file_extension": ".py",
   "mimetype": "text/x-python",
   "name": "python",
   "nbconvert_exporter": "python",
   "pygments_lexer": "ipython3",
   "version": "3.10.14"
  }
 },
 "nbformat": 4,
 "nbformat_minor": 4
}